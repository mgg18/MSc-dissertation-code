{
 "cells": [
  {
   "cell_type": "markdown",
   "id": "9d3d3562",
   "metadata": {},
   "source": [
    "In this last part of the dissertation, we will price an Interest rate swap (IRS), a CDS, CVA and Credit Insurance in Python."
   ]
  },
  {
   "cell_type": "code",
   "execution_count": 1,
   "id": "713f3d07",
   "metadata": {},
   "outputs": [],
   "source": [
    "import numpy as np\n",
    "import pandas as pd\n",
    "from scipy.interpolate import interp1d\n",
    "import matplotlib.pyplot as plt\n",
    "import math\n",
    "import unittest"
   ]
  },
  {
   "cell_type": "markdown",
   "id": "6e993763",
   "metadata": {},
   "source": [
    "First, we start by writing a code to find the present value of an Interest rate swap.\n",
    "\n",
    "By defintion, an IRS is an agreement between two parties to exchange future interest rate payments of a set period of time. In this case we will consider Vanilla IRS which involves exchange of a fixed rate for a floating rate or viceversa."
   ]
  },
  {
   "cell_type": "markdown",
   "id": "e4818243",
   "metadata": {},
   "source": [
    "In order to find the present value of an IRS, we start with a set of data $years1$ which is a set of matuirties and $zero$_$rates1$ which are the zero rates at each maturity date. Then we use this data set to construct a zero yield curve ($zero$ _$yield$ _$curve$) using linear interpolation."
   ]
  },
  {
   "cell_type": "code",
   "execution_count": 2,
   "id": "cee91102",
   "metadata": {},
   "outputs": [],
   "source": [
    "years1 = np.array([0, 1, 2, 4, 5, 10, 20])\n",
    "zero_rates1 = np.array([0.01, 0.01, 0.011, 0.012, 0.012, 0.015, 0.015])"
   ]
  },
  {
   "cell_type": "code",
   "execution_count": 4,
   "id": "2221c063",
   "metadata": {},
   "outputs": [
    {
     "data": {
      "image/png": "[encoded data removed]",
      "text/plain": [
       "<Figure size 432x288 with 1 Axes>"
      ]
     },
     "metadata": {
      "needs_background": "light"
     },
     "output_type": "display_data"
    }
   ],
   "source": [
    "zero_yield_curve = interp1d(years1, zero_rates1)\n",
    "xnew = np.linspace(0, 20, num=21, endpoint=True)\n",
    "plt.title('Zero yield curve through linear interpolation.')\n",
    "plt.xlabel('maturities')\n",
    "plt.ylabel('zero rates')\n",
    "plt.plot(years1, zero_rates1, 'o', xnew, zero_yield_curve(xnew))\n",
    "plt.legend(['data', 'linear'], loc='best')\n",
    "plt.show()"
   ]
  },
  {
   "cell_type": "markdown",
   "id": "6cea9b1b",
   "metadata": {},
   "source": [
    "A vanilla IRS is made of a fixed and a floating leg.\n",
    "\n",
    "The present value of a fixed rate leg is given by:\n",
    "$$PV_{fixed}(t)=RN \\sum^{n}_{i=1} \\tau_i D_i$$\n",
    "and the present value of a floating leg is given by:\n",
    "$$PV_{float}(t)=N \\sum^{n}_{i=1} (F_i +s) \\tau_i D_i$$\n",
    "where: \n",
    "\n",
    "$D_i=D(t,T_i)$ is the discount factor,\n",
    "\n",
    "$s$ is the floating spread,\n",
    "\n",
    "$N$ is the notional,\n",
    "\n",
    "$\\tau_i$ is $(T_i-T_{i-1})$, and\n",
    "\n",
    "$R$ is the fixed rate.\n"
   ]
  },
  {
   "cell_type": "markdown",
   "id": "3402357f",
   "metadata": {},
   "source": [
    "In order the evaluate the present value of the fixed leg, we start by computing the discount factor $D_i=D(t,T_i)= e^{-(T_i-t)*zero \\_ yield \\_ curve(i)}$. We then use some known results and the unittest to check the code."
   ]
  },
  {
   "cell_type": "code",
   "execution_count": 5,
   "id": "ef1b57db",
   "metadata": {},
   "outputs": [
    {
     "name": "stderr",
     "output_type": "stream",
     "text": [
      "test_discountfactor (__main__.TestDiscountFactor) ... ok\n",
      "\n",
      "----------------------------------------------------------------------\n",
      "Ran 1 test in 0.011s\n",
      "\n",
      "OK\n"
     ]
    },
    {
     "data": {
      "text/plain": [
       "<unittest.main.TestProgram at 0x200bd8f18e0>"
      ]
     },
     "execution_count": 5,
     "metadata": {},
     "output_type": "execute_result"
    }
   ],
   "source": [
    "def discount_factor1(t, Ti, zero_yield_curve):\n",
    "    return np.exp(-(Ti - t) * zero_yield_curve(Ti)) \n",
    "\n",
    "\n",
    "class TestDiscountFactor(unittest.TestCase):\n",
    "    def test_discountfactor(self):\n",
    "        self.assertAlmostEqual(discount_factor1(0, years1[1], zero_yield_curve), np.exp(-0.01))\n",
    "        self.assertAlmostEqual(discount_factor1(0, years1[2], zero_yield_curve), np.exp(-0.022))\n",
    "\n",
    "\n",
    "unittest.main(argv=[''], verbosity=2, exit=False)"
   ]
  },
  {
   "cell_type": "markdown",
   "id": "8d1485a6",
   "metadata": {},
   "source": [
    "Next we compute the forward rate $F_i=\\frac{(\\frac{D_{i-1}}{D_i}-1)}{\\tau_i}$."
   ]
  },
  {
   "cell_type": "code",
   "execution_count": 6,
   "id": "9656faef",
   "metadata": {},
   "outputs": [
    {
     "name": "stderr",
     "output_type": "stream",
     "text": [
      "test_discountfactor (__main__.TestDiscountFactor) ... ok\n",
      "test_forwardrates (__main__.TestForwardRates) ... ok\n",
      "\n",
      "----------------------------------------------------------------------\n",
      "Ran 2 tests in 0.008s\n",
      "\n",
      "OK\n"
     ]
    },
    {
     "data": {
      "text/plain": [
       "<unittest.main.TestProgram at 0x200bd9a82b0>"
      ]
     },
     "execution_count": 6,
     "metadata": {},
     "output_type": "execute_result"
    }
   ],
   "source": [
    "def forward_rates(\n",
    "        t, time1, time2, zero_yield_curve):\n",
    "    #time1 is the time used to evalaute D_{i-1} whilst time2 is used to evaluate D_i or viceversa\n",
    "    if time1 == time2:\n",
    "        tau = 0\n",
    "    elif time1 > time2:\n",
    "        tau = (time1 - time2)\n",
    "    else:\n",
    "        tau = (time2 - time1)\n",
    "    y1 = discount_factor1(t, time1, zero_yield_curve)\n",
    "    y2 = discount_factor1(t, time2, zero_yield_curve)\n",
    "    if time1 == time2:\n",
    "        forward_rate = zero_yield_curve(time1)\n",
    "    elif time1 > time2:\n",
    "        forward_rate = ((y2 / y1) - 1) / tau\n",
    "    else:\n",
    "        forward_rate = ((y1 / y2) - 1) / tau\n",
    "    return forward_rate\n",
    "\n",
    "\n",
    "class TestForwardRates(unittest.TestCase):\n",
    "    def test_forwardrates(self):\n",
    "        self.assertAlmostEqual(forward_rates(0, years1[2], years1[1], zero_yield_curve), np.exp(-0.01) / np.exp(-0.022) - 1)\n",
    "\n",
    "\n",
    "unittest.main(argv=[''], verbosity=2, exit=False)\n"
   ]
  },
  {
   "cell_type": "markdown",
   "id": "82f66165",
   "metadata": {},
   "source": [
    "We evaluate the present value of the fixed leg by using the formula we stated above. The variables in the formula below are:\n",
    "\n",
    "$t:$ time at which the fixed leg is evaluated,\n",
    "\n",
    "$coupon:$ coupon rate, frequency of payments in a year,\n",
    "\n",
    "$end\\_ date:$ maturity of the swap,\n",
    "\n",
    "$k:$ fixed rate,\n",
    "\n",
    "$n:$ notional.\n",
    "\n",
    "\n",
    "\n"
   ]
  },
  {
   "cell_type": "code",
   "execution_count": 7,
   "id": "3a548b67",
   "metadata": {},
   "outputs": [],
   "source": [
    "def fixed_leg(t, coupon, end_date, k, n, zero_yield_curve):\n",
    "    q = end_date * coupon #number of payments until end_date of the swap\n",
    "    s = 0\n",
    "    times = [0] * (q + 1)\n",
    "    tau = 1 / coupon\n",
    "    df = [0] * (q + 1)\n",
    "    for i in range(1, q + 1):\n",
    "        times[i] += (t + (1 / coupon) * i)\n",
    "        df[i] += discount_factor1(t, times[i], zero_yield_curve)\n",
    "        s += tau * df[i]\n",
    "    return s * n * k"
   ]
  },
  {
   "cell_type": "code",
   "execution_count": 13,
   "id": "3d6845c1",
   "metadata": {},
   "outputs": [
    {
     "data": {
      "text/plain": [
       "24.22017670535429"
      ]
     },
     "execution_count": 13,
     "metadata": {},
     "output_type": "execute_result"
    }
   ],
   "source": [
    "fixed_leg(0, 2, 5, 0.05, 100, zero_yield_curve)"
   ]
  },
  {
   "cell_type": "markdown",
   "id": "324a4ec3",
   "metadata": {},
   "source": [
    "We now evaluate the floating leg using the formula stated above. The variables used are the same as for the fixed leg."
   ]
  },
  {
   "cell_type": "code",
   "execution_count": 14,
   "id": "ca1e4ced",
   "metadata": {},
   "outputs": [],
   "source": [
    "def floating_leg(t, n, coupon, end_date, zero_yield_curve, forward_rates, spread):\n",
    "    s1 = 0\n",
    "    q = end_date *coupon\n",
    "    times = [0] * (q + 1)\n",
    "    tau = 1 / coupon\n",
    "    y = [0] * (q + 1)\n",
    "    z = [0] * (q + 1)\n",
    "    for k in range(1, q + 1):\n",
    "        times[k] += (t + (1 / coupon) * k)\n",
    "        y[k] += discount_factor1(t, times[k], zero_yield_curve)\n",
    "        z[k] += forward_rates(t, times[k - 1], times[k], zero_yield_curve)\n",
    "        s1 += (z[k]+ spread) * tau * y[k]\n",
    "    return n * s1"
   ]
  },
  {
   "cell_type": "code",
   "execution_count": 15,
   "id": "c175318b",
   "metadata": {},
   "outputs": [
    {
     "data": {
      "text/plain": [
       "10.667581982645967"
      ]
     },
     "execution_count": 15,
     "metadata": {},
     "output_type": "execute_result"
    }
   ],
   "source": [
    "floating_leg(0, 100, 2, 5, zero_yield_curve, forward_rates,0.01)"
   ]
  },
  {
   "cell_type": "markdown",
   "id": "254ef9f4",
   "metadata": {},
   "source": [
    "The present value of IRS from the fixed rate receiver perspective = Present value of the fixed leg - Present value of the floating leg."
   ]
  },
  {
   "cell_type": "code",
   "execution_count": 16,
   "id": "d9a77cb9",
   "metadata": {},
   "outputs": [],
   "source": [
    "def IRS(coupon, end_date, n, t, zero_yield_curve, k,spread):\n",
    "    return fixed_leg(t, coupon, end_date, k, n, zero_yield_curve) - floating_leg(t, n, coupon, end_date, zero_yield_curve, forward_rates,spread)\n"
   ]
  },
  {
   "cell_type": "code",
   "execution_count": 17,
   "id": "ce86ce23",
   "metadata": {},
   "outputs": [
    {
     "data": {
      "text/plain": [
       "13.493560275019371"
      ]
     },
     "execution_count": 17,
     "metadata": {},
     "output_type": "execute_result"
    }
   ],
   "source": [
    "IRS(1, 5, 100, 0, zero_yield_curve, 0.05, 0.01)"
   ]
  },
  {
   "cell_type": "markdown",
   "id": "3af5036c",
   "metadata": {},
   "source": [
    "The present value of an interest rate swap from the fixed rate payer perspective is equal to the present value of the floating leg - present value of the fixed leg."
   ]
  },
  {
   "cell_type": "code",
   "execution_count": 19,
   "id": "d40af8a0",
   "metadata": {},
   "outputs": [],
   "source": [
    "def IRS1(coupon, end_date, n, t, zero_yield_curve, k,spread):\n",
    "    return floating_leg(t, n, coupon, end_date, zero_yield_curve, forward_rates,spread)-fixed_leg(t, coupon, end_date, k, n, zero_yield_curve)"
   ]
  },
  {
   "cell_type": "code",
   "execution_count": 21,
   "id": "2b1cc7cf",
   "metadata": {},
   "outputs": [
    {
     "data": {
      "text/plain": [
       "-13.552594722708324"
      ]
     },
     "execution_count": 21,
     "metadata": {},
     "output_type": "execute_result"
    }
   ],
   "source": [
    "IRS1(2, 5, 100, 0, zero_yield_curve, 0.05, 0.01)"
   ]
  },
  {
   "cell_type": "markdown",
   "id": "2b696758",
   "metadata": {},
   "source": [
    "We can now compute the Par swap rate, which is the value of the fixed rate that, at time $t$, makes the present value of the interest rate swap equal to $0$.\n",
    "$$par\\_ rate(t)=\\frac{\\sum^{n}_{i=1}(F_i +s)D_i \\tau_i}{\\sum^{n}_{i=1}D_i \\tau_i}$$"
   ]
  },
  {
   "cell_type": "code",
   "execution_count": 22,
   "id": "8ebe3bfb",
   "metadata": {},
   "outputs": [],
   "source": [
    "def par_rate(coupon,end_date, t,zero_yield_curve, spread):\n",
    "    q = coupon * end_date\n",
    "    df = [0] * (q + 1)\n",
    "    fr = [0] * (q + 1)\n",
    "    times = [0] * (q + 1)\n",
    "    tau = 1 / coupon\n",
    "    s = 0\n",
    "    k = 0\n",
    "    for i in range(1, q + 1):\n",
    "        times[i] = (t + (1 / coupon) * i)\n",
    "        df[i] += discount_factor1(t, times[i], zero_yield_curve)\n",
    "        fr[i] += forward_rates(t, times[i], times[i - 1], zero_yield_curve)\n",
    "        s += (fr[i]+spread) * df[i] * tau\n",
    "        k += df[i] * tau\n",
    "    return s / k"
   ]
  },
  {
   "cell_type": "code",
   "execution_count": 23,
   "id": "efbd56e1",
   "metadata": {},
   "outputs": [
    {
     "data": {
      "text/plain": [
       "0.02202209775845218"
      ]
     },
     "execution_count": 23,
     "metadata": {},
     "output_type": "execute_result"
    }
   ],
   "source": [
    "par_rate(2, 5, 0, zero_yield_curve, 0.01)"
   ]
  },
  {
   "cell_type": "markdown",
   "id": "332e2b75",
   "metadata": {},
   "source": [
    "We can also compute the annuity $$A(t)=\\sum^{n}_{i=1}D_i \\tau_i$$"
   ]
  },
  {
   "cell_type": "code",
   "execution_count": 26,
   "id": "390f98f4",
   "metadata": {},
   "outputs": [],
   "source": [
    "def annuity(coupon, end_date, t, zero_yield_curve):\n",
    "    q = coupon * end_date\n",
    "    df = [0] * (q + 1)\n",
    "    times = [0] * (q + 1)\n",
    "    tau = 1 / coupon\n",
    "    s1 = 0\n",
    "    for i in range(1, q + 1):\n",
    "        times[i] = (t + (1 / coupon) * i)\n",
    "        df[i] += discount_factor1(t, times[i], zero_yield_curve)\n",
    "        s1 += df[i] * tau\n",
    "    return s1\n"
   ]
  },
  {
   "cell_type": "code",
   "execution_count": 27,
   "id": "308cd000",
   "metadata": {},
   "outputs": [
    {
     "data": {
      "text/plain": [
       "4.844035341070858"
      ]
     },
     "execution_count": 27,
     "metadata": {},
     "output_type": "execute_result"
    }
   ],
   "source": [
    "annuity(2, 5, 0, zero_yield_curve)"
   ]
  },
  {
   "cell_type": "markdown",
   "id": "6d958293",
   "metadata": {},
   "source": [
    "Then, the present value of the interest rate swap in terms of the annuity is given by:\n",
    "    $$IRS(t)=notional*(fixed\\_ rate - par\\; swap\\; rate(t))* A(t)$$\n",
    "    $$=n*(k - par\\; swap\\; rate(t))*A(t)$$"
   ]
  },
  {
   "cell_type": "code",
   "execution_count": 28,
   "id": "db198ebd",
   "metadata": {},
   "outputs": [],
   "source": [
    "def pv_swap(n, coupon, end_date, t, zero_yield_curve, k, par_rate,annuity,spread):\n",
    "    a = par_rate(coupon, end_date, t, zero_yield_curve, spread)\n",
    "    b = annuity(coupon, end_date, t, zero_yield_curve)\n",
    "    return n * (k - a) * b"
   ]
  },
  {
   "cell_type": "code",
   "execution_count": 30,
   "id": "e11b1e80",
   "metadata": {},
   "outputs": [
    {
     "name": "stderr",
     "output_type": "stream",
     "text": [
      "test_discountfactor (__main__.TestDiscountFactor) ... ok\n",
      "test_forwardrates (__main__.TestForwardRates) ... ok\n",
      "test_IRS (__main__.TestIRS) ... ok\n",
      "\n",
      "----------------------------------------------------------------------\n",
      "Ran 3 tests in 0.019s\n",
      "\n",
      "OK\n"
     ]
    },
    {
     "data": {
      "text/plain": [
       "<unittest.main.TestProgram at 0x200bda08760>"
      ]
     },
     "execution_count": 30,
     "metadata": {},
     "output_type": "execute_result"
    }
   ],
   "source": [
    "\n",
    "class TestIRS(unittest.TestCase):\n",
    "    def test_IRS(self):\n",
    "        self.assertAlmostEqual(pv_swap(100, 1, 5, 0, zero_yield_curve, 0.05, par_rate,ann,0.01), IRS(1, 5, 100, 0, zero_yield_curve, 0.05, 0.01))\n",
    "\n",
    "\n",
    "unittest.main(argv=[''], verbosity=2, exit=False)\n"
   ]
  },
  {
   "cell_type": "markdown",
   "id": "a18abcdd",
   "metadata": {},
   "source": [
    "The present value of the interest rate calculated using the annuity agrees with the present value of the interest rate swap calculated using the fixed and the floating leg."
   ]
  },
  {
   "cell_type": "markdown",
   "id": "b0354e21",
   "metadata": {},
   "source": [
    "######################################################################################################################"
   ]
  },
  {
   "cell_type": "markdown",
   "id": "c8cde75f",
   "metadata": {},
   "source": [
    "We now want to price a CDS which is also made of two legs: \n",
    "\n",
    "The premium leg which can be calculated as follows:\n",
    "$$R \\sum^{b}_{i=a+1} P(0,T_i) \\alpha_i Q(\\tau \\geq T_i)$$\n",
    "and the floating leg which can be calculated as:\n",
    "$$LGD \\int^{T_b}_{T_a} P(0,t) d_t Q(\\tau \\geq t)$$"
   ]
  },
  {
   "cell_type": "markdown",
   "id": "6971ec60",
   "metadata": {},
   "source": [
    "Our set of data in this case consists of: maturities $y$, hazard rates, $hazardrates$, and zero rates, $zerorates$, at each matuirty date."
   ]
  },
  {
   "cell_type": "code",
   "execution_count": 31,
   "id": "25f60f61",
   "metadata": {},
   "outputs": [],
   "source": [
    "\n",
    "y = [0, 1, 3, 5, 7, 10]\n",
    "hazardrates = [0.03199, 0.03199, 0.03780, 0.04033, 0.04458, 0.03891]\n",
    "zerorates = [0.01, 0.014, 0.011, 0.01, 0.001, 0.012]\n"
   ]
  },
  {
   "cell_type": "markdown",
   "id": "61fc33de",
   "metadata": {},
   "source": [
    "We use the $hazardrates$ and $y$ to write a function for the hazard rate using constant interpolation.\n"
   ]
  },
  {
   "cell_type": "code",
   "execution_count": 32,
   "id": "4a756e02",
   "metadata": {
    "scrolled": true
   },
   "outputs": [
    {
     "name": "stderr",
     "output_type": "stream",
     "text": [
      "test_discountfactor (__main__.TestDiscountFactor) ... ok\n",
      "test_forwardrates (__main__.TestForwardRates) ... ok\n",
      "test_IRS (__main__.TestIRS) ... ok\n",
      "test_hzrates (__main__.Testhazardratecurve) ... ok\n",
      "\n",
      "----------------------------------------------------------------------\n",
      "Ran 4 tests in 0.033s\n",
      "\n",
      "OK\n"
     ]
    },
    {
     "data": {
      "text/plain": [
       "<unittest.main.TestProgram at 0x200bd9b2670>"
      ]
     },
     "execution_count": 32,
     "metadata": {},
     "output_type": "execute_result"
    }
   ],
   "source": [
    "def hazard_curve(x, years, hazard_rates):\n",
    "    hz_rate = 0\n",
    "    if years[0] <= x < years[1]:\n",
    "        hz_rate += hazard_rates[1]\n",
    "    elif years[1] <= x < years[2]:\n",
    "        hz_rate += hazard_rates[2]\n",
    "    elif years[2] <= x < years[3]:\n",
    "        hz_rate += hazard_rates[3]\n",
    "    elif years[3] <= x < years[4]:\n",
    "        hz_rate += hazard_rates[4]\n",
    "    else:\n",
    "        hz_rate += hazard_rates[5]\n",
    "    return hz_rate\n",
    "\n",
    "\n",
    "class Testhazardratecurve(unittest.TestCase):\n",
    "    def test_hzrates(self):\n",
    "        self.assertAlmostEqual(hazard_curve(1.5, y, hazardrates), 0.0378)\n",
    "\n",
    "\n",
    "unittest.main(argv=[''], verbosity=2, exit=False)"
   ]
  },
  {
   "cell_type": "code",
   "execution_count": 33,
   "id": "af3fc446",
   "metadata": {},
   "outputs": [
    {
     "data": {
      "image/png": "[encoded data removed]",
      "text/plain": [
       "<Figure size 432x288 with 1 Axes>"
      ]
     },
     "metadata": {
      "needs_background": "light"
     },
     "output_type": "display_data"
    },
    {
     "name": "stdout",
     "output_type": "stream",
     "text": [
      "[0, 1, 3, 5, 7, 10]\n",
      "[0.03199, 0.03199, 0.0378, 0.04033, 0.04458, 0.03891]\n"
     ]
    }
   ],
   "source": [
    "plt.title('Constant interpolation')\n",
    "plt.xlabel('years')\n",
    "plt.ylabel('hazard rates')\n",
    "plt.step(y, hazardrates)\n",
    "plt.show()\n",
    "print(y)\n",
    "print(hazardrates)\n"
   ]
  },
  {
   "cell_type": "markdown",
   "id": "7a5b60c6",
   "metadata": {},
   "source": [
    "Next, we write a function to evaluate the survival probability $Q(\\tau \\geq t)$ and we check the results by using a unittest and the data in table 22.1 and 22.3 in Brigo Mercurio's book."
   ]
  },
  {
   "cell_type": "code",
   "execution_count": 36,
   "id": "818e473b",
   "metadata": {
    "scrolled": true
   },
   "outputs": [
    {
     "name": "stderr",
     "output_type": "stream",
     "text": [
      "test_discountfactor (__main__.TestDiscountFactor) ... ok\n",
      "test_forwardrates (__main__.TestForwardRates) ... ok\n",
      "test_IRS (__main__.TestIRS) ... ok\n",
      "test_hzrates (__main__.Testhazardratecurve) ... ok\n",
      "test_survivalprob (__main__.Testsurvivalprob) ... ok\n",
      "\n",
      "----------------------------------------------------------------------\n",
      "Ran 5 tests in 0.036s\n",
      "\n",
      "OK\n"
     ]
    },
    {
     "data": {
      "text/plain": [
       "<unittest.main.TestProgram at 0x200bd8f1670>"
      ]
     },
     "execution_count": 36,
     "metadata": {},
     "output_type": "execute_result"
    }
   ],
   "source": [
    "def survival_probability(t, years, hazard_rates, hazard_curve):\n",
    "    y = np.linspace(0, t, 1000)\n",
    "    d = 0\n",
    "    for j in range(0, len(y)):\n",
    "        if j == 0:\n",
    "            d += 0\n",
    "        else:\n",
    "            d += (y[j] - y[j - 1]) * hazard_curve(y[j], years, hazard_rates)\n",
    "    return np.exp(-d)\n",
    "class Testsurvivalprob(unittest.TestCase):\n",
    "    def test_survivalprob(self):\n",
    "        self.assertAlmostEqual(survival_probability(y[1],y, hazardrates, hazard_curve), 0.968, places=2)\n",
    "\n",
    "\n",
    "unittest.main(argv=[''], verbosity=2, exit=False)\n"
   ]
  },
  {
   "cell_type": "markdown",
   "id": "f389b2fb",
   "metadata": {},
   "source": [
    "We use linear interpolation on $y$ and $zerorates$ to find the zero yield curve on this set of data."
   ]
  },
  {
   "cell_type": "code",
   "execution_count": 37,
   "id": "3662a973",
   "metadata": {},
   "outputs": [],
   "source": [
    "zero_rate_curve = interp1d(y, zerorates)"
   ]
  },
  {
   "cell_type": "markdown",
   "id": "c8992cbd",
   "metadata": {},
   "source": [
    "We now write a function to compute $P(0,t).$"
   ]
  },
  {
   "cell_type": "code",
   "execution_count": 38,
   "id": "b9cca648",
   "metadata": {},
   "outputs": [],
   "source": [
    "def curve(t, years, zero_rates, zero_rate_curve):\n",
    "    z = np.linspace(0, t, 100)\n",
    "    d1 = 0\n",
    "    for j in range(0, len(z)):\n",
    "        if j == 0:\n",
    "            d1 += 0\n",
    "        else:\n",
    "            d1 += (z[j] - z[j - 1]) * zero_rate_curve(z[j])\n",
    "    return np.exp(-d1)"
   ]
  },
  {
   "cell_type": "markdown",
   "id": "241c082a",
   "metadata": {},
   "source": [
    "Now, we write a function to compute the premium leg using the formula:\n",
    "$$Premium\\_ Leg(t)=\\sum^{b}_{i=a+1}(R*Q(t\\geq T_i)*P(0,T_i)*(T_i -T_{i-1}))$$"
   ]
  },
  {
   "cell_type": "code",
   "execution_count": 39,
   "id": "517c0b47",
   "metadata": {},
   "outputs": [],
   "source": [
    "def prem_leg(t, end_date,coupon, k, zero_rates, hazard_rates, years):\n",
    "    #end_date=maturity of the CDS\n",
    "    s2 = 0\n",
    "    q = (end_date-t) * coupon\n",
    "    times = [0] * (q + 1)\n",
    "    for i in range(1, q + 1):\n",
    "        times[i] += (t + (1 / coupon) * i)\n",
    "        s2 += (survival_probability(times[i], years, hazard_rates, hazard_curve)) * curve(times[i], years, zero_rates, zero_rate_curve) * (\n",
    "                    times[i] - times[i - 1])\n",
    "    return k * s2\n"
   ]
  },
  {
   "cell_type": "code",
   "execution_count": 40,
   "id": "541bb249",
   "metadata": {},
   "outputs": [
    {
     "data": {
      "text/plain": [
       "0.13824625674060737"
      ]
     },
     "execution_count": 40,
     "metadata": {},
     "output_type": "execute_result"
    }
   ],
   "source": [
    "prem_leg(0, 3, 2, 0.05, zerorates, hazardrates, y)"
   ]
  },
  {
   "cell_type": "markdown",
   "id": "323af2b4",
   "metadata": {},
   "source": [
    "The formula to compute the protection leg is:\n",
    "$$LGD\\sum^{n}_{i=a+1}\\frac{1}{2} (Q(t \\geq T_{i-1})-Q(\\tau \\geq T_i))*(P(0,T_{i-1})+ P(0,T_i))$$"
   ]
  },
  {
   "cell_type": "code",
   "execution_count": 41,
   "id": "52fedae7",
   "metadata": {},
   "outputs": [],
   "source": [
    "def protect_leg(t, end_date,coupon, zero_rates, hazard_rates, years, LGD):\n",
    "    q = (end_date-t) * coupon\n",
    "    times = [0] * (q + 1)\n",
    "    s4 = 0\n",
    "    for i in range(1, (q + 1)):\n",
    "        times[i] += (t + (1 / coupon) * i)\n",
    "        s4 += (survival_probability(times[i - 1], years, hazard_rates, hazard_curve) - survival_probability(times[i], years, hazard_rates,\n",
    "            hazard_curve)) * (curve(times[i - 1], years, zero_rates, zero_rate_curve) + curve(times[i], years, zero_rates, zero_rate_curve)) / 2\n",
    "    return (LGD * s4)"
   ]
  },
  {
   "cell_type": "code",
   "execution_count": 42,
   "id": "aad73714",
   "metadata": {},
   "outputs": [
    {
     "data": {
      "text/plain": [
       "0.06007087663602395"
      ]
     },
     "execution_count": 42,
     "metadata": {},
     "output_type": "execute_result"
    }
   ],
   "source": [
    "protect_leg(0, 3, 2, zerorates, hazardrates, y, 0.6)"
   ]
  },
  {
   "cell_type": "markdown",
   "id": "3ea09eaa",
   "metadata": {},
   "source": [
    "Then the value of the CDS from the protection seller point of view= Premium leg - Protection leg."
   ]
  },
  {
   "cell_type": "code",
   "execution_count": 43,
   "id": "6e3df0c2",
   "metadata": {},
   "outputs": [],
   "source": [
    "def credit_default_swap(t, end_date, coupon, k, zero_rates, hazard_rates, years, LGD):\n",
    "    return prem_leg(t, end_date, coupon, k, zero_rates, hazard_rates, years) - protect_leg(t, end_date, coupon, zero_rates, hazard_rates, years, LGD)\n",
    "       "
   ]
  },
  {
   "cell_type": "code",
   "execution_count": 44,
   "id": "edfd7a45",
   "metadata": {},
   "outputs": [
    {
     "data": {
      "text/plain": [
       "0.07817538010458341"
      ]
     },
     "execution_count": 44,
     "metadata": {},
     "output_type": "execute_result"
    }
   ],
   "source": [
    "credit_default_swap(0, 3, 2, 0.05, zerorates, hazardrates, y, 0.6)\n"
   ]
  },
  {
   "cell_type": "markdown",
   "id": "3dd2a0ec",
   "metadata": {},
   "source": [
    "Premium leg(t)= $R*Risky\\_ Annuity(t)$ where the $$Risky\\_ Annuity(t)=\\frac{1}{2}(T_i -T_{1-i})*(P(0,T_i))*(Q(\\tau \\geq T_{i-1})+Q(\\tau \\geq T_i)$$"
   ]
  },
  {
   "cell_type": "code",
   "execution_count": 45,
   "id": "aad04452",
   "metadata": {},
   "outputs": [],
   "source": [
    "def risky_annuity(t,end_date,coupon,years,hazard_rates,zero_rates):\n",
    "    q=(end_date-t)*coupon\n",
    "    z=[0]*(q+1)\n",
    "    summ=0\n",
    "    for i in range(1,(q+1)):\n",
    "        z[i]+=(t+(1/coupon)*i)\n",
    "        summ+=(z[i]-z[i-1])*curve(z[i],years,zero_rates,zero_rate_curve)*(survival_probability(z[i-1],years,hazard_rates,hazard_curve)+survival_probability(z[i],years,hazard_rates,hazard_curve))\n",
    "    return summ/2"
   ]
  },
  {
   "cell_type": "code",
   "execution_count": 46,
   "id": "24794c54",
   "metadata": {},
   "outputs": [
    {
     "data": {
      "text/plain": [
       "2.789877319427494"
      ]
     },
     "execution_count": 46,
     "metadata": {},
     "output_type": "execute_result"
    }
   ],
   "source": [
    "risky_annuity(0, 3, 2, y, hazardrates, zerorates)"
   ]
  },
  {
   "cell_type": "code",
   "execution_count": 47,
   "id": "061fb533",
   "metadata": {},
   "outputs": [
    {
     "data": {
      "text/plain": [
       "0.1394938659713747"
      ]
     },
     "execution_count": 47,
     "metadata": {},
     "output_type": "execute_result"
    }
   ],
   "source": [
    "risky_annuity(0, 3, 2, y, hazardrates, zerorates) * 0.05"
   ]
  },
  {
   "cell_type": "markdown",
   "id": "7c592ba8",
   "metadata": {},
   "source": [
    "$R*Risky\\_ Annuity(t)= Premium\\; Leg (t)$ is satisfied."
   ]
  },
  {
   "cell_type": "markdown",
   "id": "bd0f3b9c",
   "metadata": {},
   "source": [
    "The par credit swap for a CDS is defined as $\\frac{Protect\\; leg(t)}{Annuity(t)}$. We can compute it and then check the result using the test data in Brigo-Mercurio's book (Interest Rate Models Theory and Practice (2001, Springer)) and unittest. Here we did not use bootstrapping instead we are using the hazard rates in the book to show that we get the same CDS spreads."
   ]
  },
  {
   "cell_type": "code",
   "execution_count": 49,
   "id": "4314ee23",
   "metadata": {},
   "outputs": [
    {
     "name": "stderr",
     "output_type": "stream",
     "text": [
      "test_discountfactor (__main__.TestDiscountFactor) ... ok\n",
      "test_forwardrates (__main__.TestForwardRates) ... ok\n",
      "test_IRS (__main__.TestIRS) ... ok\n",
      "test_hzrates (__main__.Testhazardratecurve) ... ok\n",
      "test_parcreditswap (__main__.Testparcreditswap) ... ok\n",
      "test_survivalprob (__main__.Testsurvivalprob) ... ok\n",
      "\n",
      "----------------------------------------------------------------------\n",
      "Ran 6 tests in 1.653s\n",
      "\n",
      "OK\n"
     ]
    },
    {
     "data": {
      "text/plain": [
       "<unittest.main.TestProgram at 0x200bd1de340>"
      ]
     },
     "execution_count": 49,
     "metadata": {},
     "output_type": "execute_result"
    }
   ],
   "source": [
    "def par_credit_swap(t, end_date, coupon, zero_rates, hazard_rates, years, LGD):\n",
    "    return protect_leg(t, end_date, coupon, zero_rates, hazard_rates, years, LGD) / risky_annuity(t, end_date, coupon, years, hazard_rates, zero_rates)\n",
    "class Testparcreditswap(unittest.TestCase):\n",
    "    def test_parcreditswap(self):\n",
    "        self.assertAlmostEqual(par_credit_swap(0, 1, 2, zerorates, hazardrates, y, 0.6)\n",
    ", 0.01925,places=5)\n",
    "        self.assertAlmostEqual(par_credit_swap(0, 3, 2, zerorates, hazardrates, y, 0.6)\n",
    ", 0.0215,places=4)\n",
    "        self.assertAlmostEqual(par_credit_swap(0, 5, 2, zerorates, hazardrates, y, 0.6)\n",
    ", 0.0225,places=4)\n",
    "        self.assertAlmostEqual(par_credit_swap(0, 10, 2, zerorates, hazardrates, y, 0.6)\n",
    ", 0.0235,places=3)\n",
    "unittest.main(argv=[''], verbosity=2, exit=False)\n",
    "       "
   ]
  },
  {
   "cell_type": "markdown",
   "id": "8cb4d4ad",
   "metadata": {},
   "source": [
    "#######################################################################################################################"
   ]
  },
  {
   "cell_type": "markdown",
   "id": "698789d4",
   "metadata": {},
   "source": [
    "Next, we want to price a CVA. From here on, no test data were available.\n",
    "\n",
    "In the dissertation, we have mentioned that CVA can be expressed as sum of swaptions. Here, we are going to use this fact, by evaluating first the price of the nromal swaption both from the payer and receiver perspectives. \n",
    "Then we use those to price the CVA."
   ]
  },
  {
   "cell_type": "code",
   "execution_count": 50,
   "id": "d58f2e0c",
   "metadata": {},
   "outputs": [],
   "source": [
    "from scipy.stats import norm"
   ]
  },
  {
   "cell_type": "markdown",
   "id": "36ed22ad",
   "metadata": {},
   "source": [
    "$Price\\; of\\; normal\\; swaption \\; payer\\; at\\; time\\; $0$ = notional* A(0) *\\sigma *(T_0)^{1/2}(d_1*\\Phi (d_1)+\\Psi(d_1))$"
   ]
  },
  {
   "cell_type": "markdown",
   "id": "dfe4a480",
   "metadata": {},
   "source": [
    "$A(0)=\\sum^{b}_{i=a}\\tau_i P(0,T_i): annuity\\; at\\; time\\; 0$,"
   ]
  },
  {
   "cell_type": "markdown",
   "id": "eb1decde",
   "metadata": {},
   "source": [
    "$d_1=\\frac{s(0)-K}{\\sigma * (T_0)^{1/2}}$,"
   ]
  },
  {
   "cell_type": "markdown",
   "id": "1ce76ba5",
   "metadata": {},
   "source": [
    "$s(0)=\\frac{P(0,T_a)-P(0,T_b)}{A(0)}$,\n",
    "\n",
    "$K: fixed\\; rate,$\n",
    "\n",
    "$T_0=T_a:$ maturity of the swaption,\n",
    "\n",
    "$T_b:$ maturity of the swap."
   ]
  },
  {
   "cell_type": "code",
   "execution_count": 51,
   "id": "b9df2079",
   "metadata": {},
   "outputs": [],
   "source": [
    "def annuity_0(end_date, coupon, zero_rates, zero_rate_curve, initial_date, years):\n",
    "    s5 = 0\n",
    "    q = (end_date-initial_date) * coupon\n",
    "    times = [0] * (q + 1)\n",
    "    for k in range(1, (q + 1)):\n",
    "        times[k] += initial_date + (1 / coupon) * k\n",
    "        s5 += (times[k] - times[k - 1]) * curve(times[k], years, zero_rates, zero_rate_curve)\n",
    "    return s5\n"
   ]
  },
  {
   "cell_type": "code",
   "execution_count": 52,
   "id": "97f6dce2",
   "metadata": {},
   "outputs": [
    {
     "data": {
      "text/plain": [
       "7.4834899241914785"
      ]
     },
     "execution_count": 52,
     "metadata": {},
     "output_type": "execute_result"
    }
   ],
   "source": [
    "annuity_0(8,1,zerorates,zero_rate_curve,5,y)"
   ]
  },
  {
   "cell_type": "code",
   "execution_count": 55,
   "id": "193a832a",
   "metadata": {},
   "outputs": [],
   "source": [
    "def d1(strike, sigma, end_date, coupon, zero_rates, zero_rate_curve, initial_date, years):\n",
    "    return (rate(end_date, coupon, zero_rates, zero_rate_curve, initial_date, years) - strike) / (sigma * np.sqrt(\n",
    "        initial_date))"
   ]
  },
  {
   "cell_type": "code",
   "execution_count": 56,
   "id": "d2cda85a",
   "metadata": {},
   "outputs": [
    {
     "data": {
      "text/plain": [
       "-0.018555652292685694"
      ]
     },
     "execution_count": 56,
     "metadata": {},
     "output_type": "execute_result"
    }
   ],
   "source": [
    "d1(0.01, 0.2, 8, 2, zerorates, zero_rate_curve, 5, y)"
   ]
  },
  {
   "cell_type": "code",
   "execution_count": 57,
   "id": "6b5f8089",
   "metadata": {},
   "outputs": [],
   "source": [
    "def d2(strike, sigma, end_date, coupon, zero_rates, zero_rate_curve, initial_date, years):\n",
    "       return - d1(strike, sigma, end_date, coupon, zero_rates, zero_rate_curve, initial_date, years)\n"
   ]
  },
  {
   "cell_type": "code",
   "execution_count": 58,
   "id": "d1f56034",
   "metadata": {},
   "outputs": [
    {
     "data": {
      "text/plain": [
       "0.018555652292685694"
      ]
     },
     "execution_count": 58,
     "metadata": {},
     "output_type": "execute_result"
    }
   ],
   "source": [
    "d2(0.01, 0.2, 8, 2, zerorates, zero_rate_curve, 5, y)"
   ]
  },
  {
   "cell_type": "code",
   "execution_count": 53,
   "id": "f3887b61",
   "metadata": {},
   "outputs": [],
   "source": [
    "def rate(end_date, coupon, zero_rates, zero_rate_curve, initial_date, years):\n",
    "    return (curve(initial_date, years, zero_rates, zero_rate_curve) - curve(end_date, years, zero_rates,\n",
    "                                                                            zero_rate_curve)) / annuity_0(end_date,\n",
    "                                                                                                          coupon,\n",
    "                                                                                                          zero_rates,\n",
    "                                                                                                          zero_rate_curve,\n",
    "                                                                                                          initial_date,\n",
    "                                                                                                          years)"
   ]
  },
  {
   "cell_type": "code",
   "execution_count": 54,
   "id": "76f47df3",
   "metadata": {},
   "outputs": [
    {
     "data": {
      "text/plain": [
       "0.0017057615388937476"
      ]
     },
     "execution_count": 54,
     "metadata": {},
     "output_type": "execute_result"
    }
   ],
   "source": [
    "rate(8, 1, zerorates, zero_rate_curve, 5, y)"
   ]
  },
  {
   "cell_type": "markdown",
   "id": "6731f62e",
   "metadata": {},
   "source": [
    "Now, using the above functions we can evaluate the price of a normal swaption from the payer perspective:"
   ]
  },
  {
   "cell_type": "code",
   "execution_count": 60,
   "id": "fbde66a3",
   "metadata": {},
   "outputs": [],
   "source": [
    "def norm_swaption_payer(notional, strike, sigma, end_date, coupon, zero_rates, zero_rate_curve, initial_date, years):\n",
    "    d1_new = d1(strike, sigma, end_date, coupon, zero_rates, zero_rate_curve, initial_date, years)\n",
    "    return notional * annuity_0(end_date, coupon, zero_rates, zero_rate_curve, initial_date, years)*sigma * np.sqrt(\n",
    "        initial_date) * (d1_new * norm.cdf(d1_new) + norm.pdf(d1_new))\n"
   ]
  },
  {
   "cell_type": "code",
   "execution_count": 95,
   "id": "f6dde639",
   "metadata": {},
   "outputs": [
    {
     "data": {
      "text/plain": [
       "38.199259693563135"
      ]
     },
     "execution_count": 95,
     "metadata": {},
     "output_type": "execute_result"
    }
   ],
   "source": [
    "norm_swaption_payer(100, 0.01, 0.2, 5, 1, zerorates, zero_rate_curve, 1, y)\n"
   ]
  },
  {
   "cell_type": "markdown",
   "id": "0ad7e649",
   "metadata": {},
   "source": [
    "and also the price of the normal swaption from the receiver perspective."
   ]
  },
  {
   "cell_type": "code",
   "execution_count": 63,
   "id": "141b012a",
   "metadata": {},
   "outputs": [],
   "source": [
    "def norm_swaption_receiver(notional, strike, sigma, end_date, coupon, zero_rates, zero_rate_curve, initial_date, years):\n",
    "    d2_new = d2(strike, sigma, end_date, coupon, zero_rates, zero_rate_curve, initial_date, years)\n",
    "    return notional * sigma *annuity_0(end_date, coupon, zero_rates, zero_rate_curve, initial_date, years)* np.sqrt(\n",
    "        initial_date) * (d2_new * norm.cdf(d2_new) + norm.pdf(d2_new))\n"
   ]
  },
  {
   "cell_type": "code",
   "execution_count": 105,
   "id": "2fe2e8d3",
   "metadata": {},
   "outputs": [
    {
     "data": {
      "text/plain": [
       "38.71510178790873"
      ]
     },
     "execution_count": 105,
     "metadata": {},
     "output_type": "execute_result"
    }
   ],
   "source": [
    "norm_swaption_receiver(100, 0.01, 0.2, 5, 2, zerorates, zero_rate_curve,1 , y)\n"
   ]
  },
  {
   "cell_type": "markdown",
   "id": "16d009e5",
   "metadata": {},
   "source": [
    "Then the CVA can be evaluated using the following formula:\n",
    "\n",
    "$CVA=LGD*\\sum^{b}_{i=a+1}(Q(t_{i-1})-Q(t_i))*Swaption\\; Payer_t$, \n",
    "\n",
    "where the $swaption\\; payer_t$ is the price of a normal swaption with expiry $t$."
   ]
  },
  {
   "cell_type": "code",
   "execution_count": 67,
   "id": "939073b4",
   "metadata": {},
   "outputs": [],
   "source": [
    "def cva(LGD, notional, strike, sigma, end_date, coupon, zero_rates, zero_rate_curve, initial_date, years, hazard_rates, hazard_curve):\n",
    "    h = 0\n",
    "    q = (end_date-initial_date) * coupon\n",
    "    s=[0]*(q+1)\n",
    "    m = [0] * (q + 1)\n",
    "    for k in range(1, q + 1):\n",
    "        m[k] += initial_date +int(1/coupon)* k\n",
    "        s[k]+=norm_swaption_payer(notional, strike, sigma,m[k], coupon, zero_rates, zero_rate_curve,initial_date, years)\n",
    "        h += (survival_probability(m[k-1], years, hazard_rates, hazard_curve)-survival_probability(m[k], years, hazard_rates, hazard_curve)) * s[k]\n",
    "    return LGD * h"
   ]
  },
  {
   "cell_type": "code",
   "execution_count": 65,
   "id": "2dc4c214",
   "metadata": {},
   "outputs": [
    {
     "data": {
      "text/plain": [
       "1.7905355069242388"
      ]
     },
     "execution_count": 65,
     "metadata": {},
     "output_type": "execute_result"
    }
   ],
   "source": [
    "cva(0.6,100,0,0.02,8,1,zerorates,zero_rate_curve,5,y,hazardrates, hazard_curve)"
   ]
  },
  {
   "cell_type": "markdown",
   "id": "98a0bf40",
   "metadata": {},
   "source": [
    "######################################################################################################################\n"
   ]
  },
  {
   "cell_type": "markdown",
   "id": "1a1e4b0a",
   "metadata": {},
   "source": [
    "Lastly, we are going to price Credit Insurance.\n",
    "\n",
    "In Chapter 7, we found that the fair value of the price of Credit Insurance can be calculated as:\n",
    " $$CI= Premium\\;Leg - Protection\\;Leg$$\n",
    "  $$=\\sum^{b}_{i=a+1} \\mathbb{E}[D(0, T_i) \\cdot \\alpha_i \\cdot R ]-LGD \\int_{t}^{T}\\lambda_C(s) \\cdot e^{-\\int_{t}^{s}r_F(u)+\\lambda_C(u) du}\\mathbb{E}[min((1-p)V^+,K)]ds $$"
   ]
  },
  {
   "cell_type": "markdown",
   "id": "defea9db",
   "metadata": {},
   "source": [
    "$CI= premium \\;leg - (CVA(with\\; strike\\; 0)-CVA(with\\; strike\\; K/(1-p))$"
   ]
  },
  {
   "cell_type": "code",
   "execution_count": 68,
   "id": "d1e5c23f",
   "metadata": {},
   "outputs": [],
   "source": [
    "def prem_leg_CI(end_date, coupon, initial_date, k, zero_rates, years):\n",
    "    s6 = 0\n",
    "    q = (end_date-initial_date) * coupon\n",
    "    times = [0] * (q + 1)\n",
    "    for i in range(1, q + 1):\n",
    "        times[i] += (initial_date + (1 / coupon) * i)\n",
    "        s6 += (times[i] - times[i - 1]) * curve(times[i], years, zero_rates, zero_rate_curve)\n",
    "    return k * s6"
   ]
  },
  {
   "cell_type": "code",
   "execution_count": 69,
   "id": "bc0d1273",
   "metadata": {},
   "outputs": [
    {
     "data": {
      "text/plain": [
       "0.7483489924191479"
      ]
     },
     "execution_count": 69,
     "metadata": {},
     "output_type": "execute_result"
    }
   ],
   "source": [
    "prem_leg_CI(8, 1, 5, 0.1, zerorates, y)"
   ]
  },
  {
   "cell_type": "code",
   "execution_count": 70,
   "id": "bc5884a5",
   "metadata": {},
   "outputs": [],
   "source": [
    "def ci_swaption(LGD, notional, strike, p, sigma, end_date, coupon, zero_rates, zero_rate_curve, initial_date, years,hazard_rates,hazard_curve):\n",
    "    c = strike / (1 - p)\n",
    "    return cva(LGD, notional, 0, sigma, end_date, coupon, zero_rates, zero_rate_curve, initial_date, years,hazard_rates, hazard_curve) - cva(LGD,notional,c,sigma,end_date,coupon, zero_rates,zero_rate_curve,initial_date,years,hazard_rates,hazard_curve)\n"
   ]
  },
  {
   "cell_type": "code",
   "execution_count": 71,
   "id": "7e690208",
   "metadata": {},
   "outputs": [
    {
     "data": {
      "text/plain": [
       "1.7896205865019703"
      ]
     },
     "execution_count": 71,
     "metadata": {},
     "output_type": "execute_result"
    }
   ],
   "source": [
    "ci_swaption(0.6,100,0.1,0.3,0.02,8,1,zerorates,zero_rate_curve,5,y,hazardrates, hazard_curve)"
   ]
  },
  {
   "cell_type": "code",
   "execution_count": 72,
   "id": "b9a5ff6d",
   "metadata": {},
   "outputs": [],
   "source": [
    "def ci(LGD, notional, strike, p, sigma, end_date, coupon, zero_rates, zero_rate_curve, initial_date, years, k,hazard_rates,hazard_curve):\n",
    "    return prem_leg_CI(end_date, coupon, initial_date, k, zero_rates, years) - ci_swaption(LGD, notional, strike, p, sigma, end_date, coupon, zero_rates, zero_rate_curve, initial_date, years,hazard_rates,hazard_curve)\n",
    "        "
   ]
  },
  {
   "cell_type": "code",
   "execution_count": 73,
   "id": "c3b4afb9",
   "metadata": {},
   "outputs": [
    {
     "data": {
      "text/plain": [
       "0.0766775218579181"
      ]
     },
     "execution_count": 73,
     "metadata": {},
     "output_type": "execute_result"
    }
   ],
   "source": [
    "ci(0.6,100,0.1,0.4,0.007,8,1,zerorates,zero_rate_curve,5,y,0.1,hazardrates,hazard_curve)"
   ]
  }
 ],
 "metadata": {
  "kernelspec": {
   "display_name": "Python 3",
   "language": "python",
   "name": "python3"
  },
  "language_info": {
   "codemirror_mode": {
    "name": "ipython",
    "version": 3
   },
   "file_extension": ".py",
   "mimetype": "text/x-python",
   "name": "python",
   "nbconvert_exporter": "python",
   "pygments_lexer": "ipython3",
   "version": "3.8.8"
  }
 },
 "nbformat": 4,
 "nbformat_minor": 5
}
